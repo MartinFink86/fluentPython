{
 "cells": [
  {
   "cell_type": "code",
   "execution_count": 4,
   "metadata": {},
   "outputs": [
    {
     "name": "stdout",
     "output_type": "stream",
     "text": [
      "This t-shirt has color black and size S\n",
      "This t-shirt has color black and size M\n",
      "This t-shirt has color black and size L\n",
      "This t-shirt has color white and size S\n",
      "This t-shirt has color white and size M\n",
      "This t-shirt has color white and size L\n"
     ]
    }
   ],
   "source": [
    "colors = ['black', 'white']\n",
    "sizes = ['S', 'M', 'L']\n",
    "for tshirt in ('This t-shirt has color %s and size %s' % (c,s) for c in colors for s in sizes):\n",
    "    print(tshirt)"
   ]
  }
 ],
 "metadata": {
  "kernelspec": {
   "display_name": "Python 3",
   "language": "python",
   "name": "python3"
  },
  "language_info": {
   "codemirror_mode": {
    "name": "ipython",
    "version": 3
   },
   "file_extension": ".py",
   "mimetype": "text/x-python",
   "name": "python",
   "nbconvert_exporter": "python",
   "pygments_lexer": "ipython3",
   "version": "3.6.5"
  }
 },
 "nbformat": 4,
 "nbformat_minor": 2
}
