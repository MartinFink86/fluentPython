{
 "cells": [
  {
   "cell_type": "code",
   "execution_count": 1,
   "metadata": {},
   "outputs": [],
   "source": [
    "import sys\n",
    "import re"
   ]
  },
  {
   "cell_type": "code",
   "execution_count": 43,
   "metadata": {},
   "outputs": [],
   "source": [
    "WORD_RE = re.compile(r'\\w+')\n",
    "\n",
    "index = {}"
   ]
  },
  {
   "cell_type": "code",
   "execution_count": 44,
   "metadata": {},
   "outputs": [
    {
     "name": "stdout",
     "output_type": "stream",
     "text": [
      "0 [(12, 17), (13, 22)]\n",
      "added [(11, 15)]\n",
      "after [(4, 1)]\n",
      "an [(1, 30)]\n",
      "app [(15, 40), (16, 5)]\n",
      "as [(15, 37)]\n",
      "avoid [(3, 55)]\n",
      "back [(11, 21)]\n",
      "by [(11, 26)]\n",
      "can [(3, 51)]\n",
      "cwd [(4, 20)]\n",
      "CWD [(10, 18)]\n",
      "del [(13, 9)]\n",
      "doing [(3, 61)]\n",
      "Entry [(1, 4)]\n",
      "for [(1, 16)]\n",
      "from [(3, 18), (4, 24), (10, 22), (15, 5)]\n",
      "if [(9, 1), (12, 5)]\n",
      "import [(7, 1), (15, 20)]\n",
      "imports [(3, 67)]\n",
      "init_path [(11, 49)]\n",
      "InteractiveShellApp [(11, 29)]\n",
      "ipykernel [(3, 27), (15, 10)]\n",
      "IPython [(1, 33)]\n",
      "is [(3, 6), (11, 12)]\n",
      "kernel [(1, 41)]\n",
      "kernelapp [(15, 27)]\n",
      "launching [(1, 20)]\n",
      "launch_new_instance [(16, 9)]\n",
      "load [(10, 45)]\n",
      "package [(3, 37)]\n",
      "path [(4, 33), (10, 31), (12, 12), (13, 17)]\n",
      "point [(1, 10)]\n",
      "Remove [(10, 7)]\n",
      "removing [(4, 7)]\n",
      "separate [(3, 9)]\n",
      "so [(3, 45)]\n",
      "stuff [(10, 50)]\n",
      "sys [(4, 29), (7, 8), (10, 27), (12, 8), (13, 13)]\n",
      "the [(3, 23), (4, 16), (10, 14)]\n",
      "This [(3, 1), (11, 7)]\n",
      "until [(3, 75)]\n",
      "we [(3, 48), (10, 42)]\n",
      "while [(10, 36)]\n",
      "__main__ [(9, 17)]\n",
      "__name__ [(9, 4)]\n"
     ]
    }
   ],
   "source": [
    "with open(sys.argv[0], encoding='utf-8') as fp:\n",
    "    for line_no, line in enumerate(fp,1):\n",
    "        for match in WORD_RE.finditer(line):\n",
    "            word = match.group()\n",
    "            column_no = match.start()+1\n",
    "            location = (line_no, column_no)\n",
    "            \n",
    "            #occurrences = index.get(word, []) # bad!\n",
    "            #occurrences.append(location) # bad!\n",
    "            #index[word] = occurrences # bad\n",
    "            index.setdefault(word,[]).append(location) # better!\n",
    "            \n",
    "for word in sorted(index, key=str.upper):\n",
    "    print(word, index[word])"
   ]
  }
 ],
 "metadata": {
  "kernelspec": {
   "display_name": "Python 3",
   "language": "python",
   "name": "python3"
  },
  "language_info": {
   "codemirror_mode": {
    "name": "ipython",
    "version": 3
   },
   "file_extension": ".py",
   "mimetype": "text/x-python",
   "name": "python",
   "nbconvert_exporter": "python",
   "pygments_lexer": "ipython3",
   "version": "3.6.5"
  }
 },
 "nbformat": 4,
 "nbformat_minor": 2
}
