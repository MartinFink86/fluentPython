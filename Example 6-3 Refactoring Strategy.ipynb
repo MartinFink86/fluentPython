{
 "cells": [
  {
   "cell_type": "code",
   "execution_count": 1,
   "metadata": {},
   "outputs": [],
   "source": [
    "from abc import ABC, abstractmethod\n",
    "from collections import namedtuple"
   ]
  },
  {
   "cell_type": "code",
   "execution_count": 2,
   "metadata": {},
   "outputs": [
    {
     "data": {
      "text/plain": [
       "__main__.Customer"
      ]
     },
     "execution_count": 2,
     "metadata": {},
     "output_type": "execute_result"
    }
   ],
   "source": [
    "Customer = namedtuple('Customer', 'name fidelity')\n",
    "Customer"
   ]
  },
  {
   "cell_type": "markdown",
   "metadata": {},
   "source": [
    "## Let's do it with less code, with functions as objects"
   ]
  },
  {
   "cell_type": "code",
   "execution_count": 3,
   "metadata": {},
   "outputs": [],
   "source": [
    "class LineItem:\n",
    "    \n",
    "    def __init__(self, product, quantity, price):\n",
    "        self.product = product\n",
    "        self.quantity = quantity\n",
    "        self.price = price\n",
    "        \n",
    "    def total(self):\n",
    "        return self.price * self.quantity\n",
    "    \n",
    "\n",
    "class Order:\n",
    "    \n",
    "    def __init__(self, customer, cart, promotion=None):\n",
    "        self.customer = customer\n",
    "        self.cart = cart\n",
    "        self.promotion = promotion\n",
    "        \n",
    "    def total(self):\n",
    "        if not hasattr(self, '__total'):\n",
    "            self.__total = sum(item.total() for item in self.cart)\n",
    "        return self.__total\n",
    "    \n",
    "    def due(self):\n",
    "        if self.promotion is None:\n",
    "            discount = 0\n",
    "        else:\n",
    "            discount = self.promotion(self)\n",
    "        return self.total()-discount\n",
    "        \n",
    "    def __repr__(self):\n",
    "        fmt = '<Order total: {:.2f} due: {:.2f}>'\n",
    "        return fmt.format(self.total(), self.due())"
   ]
  },
  {
   "cell_type": "code",
   "execution_count": 4,
   "metadata": {},
   "outputs": [],
   "source": [
    "def fidelity_promo(order):\n",
    "    return order.total() * .05 if order.customer.fidelity >= 1000 else 0\n",
    "\n",
    "def bulk_order_promo(order):\n",
    "    \"\"\"10% discount for each lineitem with 20 or more units.\"\"\"\n",
    "    \n",
    "    discount = 0\n",
    "    for item in order.cart:\n",
    "        if item.quantity >=20:\n",
    "            discount += item.total() * .1\n",
    "\n",
    "    return discount\n",
    "    \n",
    "def large_order_promo(order):\n",
    "    \"\"\"7% discount for orders with 10 or more discutinct items.\"\"\"\n",
    "       \n",
    "    distinct_items = {item.product for item in order.cart}\n",
    "    if len(distinct_items) >= 10:\n",
    "        return order.total() * .07\n",
    "    return 0"
   ]
  },
  {
   "cell_type": "code",
   "execution_count": 5,
   "metadata": {},
   "outputs": [],
   "source": [
    "joe = Customer('John Doe', 0)\n",
    "ann = Customer('Ann Smith', 1100)"
   ]
  },
  {
   "cell_type": "code",
   "execution_count": 6,
   "metadata": {},
   "outputs": [],
   "source": [
    "cart = [LineItem('banana', 4, .5),\n",
    "       LineItem('apple', 10, 1.5), \n",
    "       LineItem('watermellon', 5, 5.0)\n",
    "       ]"
   ]
  },
  {
   "cell_type": "code",
   "execution_count": 8,
   "metadata": {},
   "outputs": [
    {
     "data": {
      "text/plain": [
       "<Order total: 42.00 due: 42.00>"
      ]
     },
     "execution_count": 8,
     "metadata": {},
     "output_type": "execute_result"
    }
   ],
   "source": [
    "Order(joe, cart, fidelity_promo)"
   ]
  },
  {
   "cell_type": "markdown",
   "metadata": {},
   "source": [
    "## Best discount meta strategy"
   ]
  },
  {
   "cell_type": "code",
   "execution_count": 9,
   "metadata": {},
   "outputs": [],
   "source": [
    "promos = [fidelity_promo, bulk_order_promo, large_order_promo]\n",
    "def best_promo(order):\n",
    "    return max(promo(order) for promo in promos)"
   ]
  },
  {
   "cell_type": "code",
   "execution_count": 10,
   "metadata": {},
   "outputs": [
    {
     "data": {
      "text/plain": [
       "<Order total: 42.00 due: 39.90>"
      ]
     },
     "execution_count": 10,
     "metadata": {},
     "output_type": "execute_result"
    }
   ],
   "source": [
    "Order(ann, cart, best_promo)"
   ]
  },
  {
   "cell_type": "markdown",
   "metadata": {},
   "source": [
    "# Find all the promotions automatically"
   ]
  },
  {
   "cell_type": "code",
   "execution_count": 11,
   "metadata": {},
   "outputs": [
    {
     "data": {
      "text/plain": [
       "{'__name__': '__main__',\n",
       " '__doc__': 'Automatically created module for IPython interactive environment',\n",
       " '__package__': None,\n",
       " '__loader__': None,\n",
       " '__spec__': None,\n",
       " '__builtin__': <module 'builtins' (built-in)>,\n",
       " '__builtins__': <module 'builtins' (built-in)>,\n",
       " '_ih': ['',\n",
       "  'from abc import ABC, abstractmethod\\nfrom collections import namedtuple',\n",
       "  \"Customer = namedtuple('Customer', 'name fidelity')\\nCustomer\",\n",
       "  \"class LineItem:\\n    \\n    def __init__(self, product, quantity, price):\\n        self.product = product\\n        self.quantity = quantity\\n        self.price = price\\n        \\n    def total(self):\\n        return self.price * self.quantity\\n    \\n\\nclass Order:\\n    \\n    def __init__(self, customer, cart, promotion=None):\\n        self.customer = customer\\n        self.cart = cart\\n        self.promotion = promotion\\n        \\n    def total(self):\\n        if not hasattr(self, '__total'):\\n            self.__total = sum(item.total() for item in self.cart)\\n        return self.__total\\n    \\n    def due(self):\\n        if self.promotion is None:\\n            discount = 0\\n        else:\\n            discount = self.promotion(self)\\n        return self.total()-discount\\n        \\n    def __repr__(self):\\n        fmt = '<Order total: {:.2f} due: {:.2f}>'\\n        return fmt.format(self.total(), self.due())\",\n",
       "  'def fidelity_promo(order):\\n    return order.total() * .05 if order.customer.fidelity >= 1000 else 0\\n\\ndef bulk_order_promo(order):\\n    \"\"\"10% discount for each lineitem with 20 or more units.\"\"\"\\n    \\n    discount = 0\\n    for item in order.cart:\\n        if item.quantity >=20:\\n            discount += item.total() * .1\\n\\n    return discount\\n    \\ndef large_order_promo(order):\\n    \"\"\"7% discount for orders with 10 or more discutinct items.\"\"\"\\n       \\n    distinct_items = {item.product for item in order.cart}\\n    if len(distinct_items) >= 10:\\n        return order.total() * .07\\n    return 0',\n",
       "  \"joe = Customer('John Doe', 0)\\nann = Customer('Ann Smith', 1100)\",\n",
       "  \"cart = [LineItem('banana', 4, .5),\\n       LineItem('apple', 10, 1.5), \\n       LineItem('watermellon', 5, 5.0)\\n       ]\",\n",
       "  'print(Order(joe, cart, FidelityPromotion()))\\nprint(Order(ann, cart, FidelityPromotion()))',\n",
       "  'Order(joe, cart, fidelity_promo)',\n",
       "  'promos = [fidelity_promo, bulk_order_promo, large_order_promo]\\ndef best_promo(order):\\n    return max(promo(order) for promo in promos)',\n",
       "  'Order(ann, cart, best_promo)',\n",
       "  'globals()'],\n",
       " '_oh': {2: __main__.Customer,\n",
       "  8: <Order total: 42.00 due: 42.00>,\n",
       "  10: <Order total: 42.00 due: 39.90>},\n",
       " '_dh': ['C:\\\\MyData\\\\14_PythonCoding\\\\1_Fluent Python\\\\fluentPython'],\n",
       " 'In': ['',\n",
       "  'from abc import ABC, abstractmethod\\nfrom collections import namedtuple',\n",
       "  \"Customer = namedtuple('Customer', 'name fidelity')\\nCustomer\",\n",
       "  \"class LineItem:\\n    \\n    def __init__(self, product, quantity, price):\\n        self.product = product\\n        self.quantity = quantity\\n        self.price = price\\n        \\n    def total(self):\\n        return self.price * self.quantity\\n    \\n\\nclass Order:\\n    \\n    def __init__(self, customer, cart, promotion=None):\\n        self.customer = customer\\n        self.cart = cart\\n        self.promotion = promotion\\n        \\n    def total(self):\\n        if not hasattr(self, '__total'):\\n            self.__total = sum(item.total() for item in self.cart)\\n        return self.__total\\n    \\n    def due(self):\\n        if self.promotion is None:\\n            discount = 0\\n        else:\\n            discount = self.promotion(self)\\n        return self.total()-discount\\n        \\n    def __repr__(self):\\n        fmt = '<Order total: {:.2f} due: {:.2f}>'\\n        return fmt.format(self.total(), self.due())\",\n",
       "  'def fidelity_promo(order):\\n    return order.total() * .05 if order.customer.fidelity >= 1000 else 0\\n\\ndef bulk_order_promo(order):\\n    \"\"\"10% discount for each lineitem with 20 or more units.\"\"\"\\n    \\n    discount = 0\\n    for item in order.cart:\\n        if item.quantity >=20:\\n            discount += item.total() * .1\\n\\n    return discount\\n    \\ndef large_order_promo(order):\\n    \"\"\"7% discount for orders with 10 or more discutinct items.\"\"\"\\n       \\n    distinct_items = {item.product for item in order.cart}\\n    if len(distinct_items) >= 10:\\n        return order.total() * .07\\n    return 0',\n",
       "  \"joe = Customer('John Doe', 0)\\nann = Customer('Ann Smith', 1100)\",\n",
       "  \"cart = [LineItem('banana', 4, .5),\\n       LineItem('apple', 10, 1.5), \\n       LineItem('watermellon', 5, 5.0)\\n       ]\",\n",
       "  'print(Order(joe, cart, FidelityPromotion()))\\nprint(Order(ann, cart, FidelityPromotion()))',\n",
       "  'Order(joe, cart, fidelity_promo)',\n",
       "  'promos = [fidelity_promo, bulk_order_promo, large_order_promo]\\ndef best_promo(order):\\n    return max(promo(order) for promo in promos)',\n",
       "  'Order(ann, cart, best_promo)',\n",
       "  'globals()'],\n",
       " 'Out': {2: __main__.Customer,\n",
       "  8: <Order total: 42.00 due: 42.00>,\n",
       "  10: <Order total: 42.00 due: 39.90>},\n",
       " 'get_ipython': <bound method InteractiveShell.get_ipython of <ipykernel.zmqshell.ZMQInteractiveShell object at 0x000002A717CA8E10>>,\n",
       " 'exit': <IPython.core.autocall.ZMQExitAutocall at 0x2a717d062b0>,\n",
       " 'quit': <IPython.core.autocall.ZMQExitAutocall at 0x2a717d062b0>,\n",
       " '_': <Order total: 42.00 due: 39.90>,\n",
       " '__': <Order total: 42.00 due: 42.00>,\n",
       " '___': __main__.Customer,\n",
       " '_i': 'Order(ann, cart, best_promo)',\n",
       " '_ii': 'promos = [fidelity_promo, bulk_order_promo, large_order_promo]\\ndef best_promo(order):\\n    return max(promo(order) for promo in promos)',\n",
       " '_iii': 'Order(joe, cart, fidelity_promo)',\n",
       " '_i1': 'from abc import ABC, abstractmethod\\nfrom collections import namedtuple',\n",
       " 'ABC': abc.ABC,\n",
       " 'abstractmethod': <function abc.abstractmethod(funcobj)>,\n",
       " 'namedtuple': <function collections.namedtuple(typename, field_names, *, verbose=False, rename=False, module=None)>,\n",
       " '_i2': \"Customer = namedtuple('Customer', 'name fidelity')\\nCustomer\",\n",
       " 'Customer': __main__.Customer,\n",
       " '_2': __main__.Customer,\n",
       " '_i3': \"class LineItem:\\n    \\n    def __init__(self, product, quantity, price):\\n        self.product = product\\n        self.quantity = quantity\\n        self.price = price\\n        \\n    def total(self):\\n        return self.price * self.quantity\\n    \\n\\nclass Order:\\n    \\n    def __init__(self, customer, cart, promotion=None):\\n        self.customer = customer\\n        self.cart = cart\\n        self.promotion = promotion\\n        \\n    def total(self):\\n        if not hasattr(self, '__total'):\\n            self.__total = sum(item.total() for item in self.cart)\\n        return self.__total\\n    \\n    def due(self):\\n        if self.promotion is None:\\n            discount = 0\\n        else:\\n            discount = self.promotion(self)\\n        return self.total()-discount\\n        \\n    def __repr__(self):\\n        fmt = '<Order total: {:.2f} due: {:.2f}>'\\n        return fmt.format(self.total(), self.due())\",\n",
       " 'LineItem': __main__.LineItem,\n",
       " 'Order': __main__.Order,\n",
       " '_i4': 'def fidelity_promo(order):\\n    return order.total() * .05 if order.customer.fidelity >= 1000 else 0\\n\\ndef bulk_order_promo(order):\\n    \"\"\"10% discount for each lineitem with 20 or more units.\"\"\"\\n    \\n    discount = 0\\n    for item in order.cart:\\n        if item.quantity >=20:\\n            discount += item.total() * .1\\n\\n    return discount\\n    \\ndef large_order_promo(order):\\n    \"\"\"7% discount for orders with 10 or more discutinct items.\"\"\"\\n       \\n    distinct_items = {item.product for item in order.cart}\\n    if len(distinct_items) >= 10:\\n        return order.total() * .07\\n    return 0',\n",
       " 'fidelity_promo': <function __main__.fidelity_promo(order)>,\n",
       " 'bulk_order_promo': <function __main__.bulk_order_promo(order)>,\n",
       " 'large_order_promo': <function __main__.large_order_promo(order)>,\n",
       " '_i5': \"joe = Customer('John Doe', 0)\\nann = Customer('Ann Smith', 1100)\",\n",
       " 'joe': Customer(name='John Doe', fidelity=0),\n",
       " 'ann': Customer(name='Ann Smith', fidelity=1100),\n",
       " '_i6': \"cart = [LineItem('banana', 4, .5),\\n       LineItem('apple', 10, 1.5), \\n       LineItem('watermellon', 5, 5.0)\\n       ]\",\n",
       " 'cart': [<__main__.LineItem at 0x2a717e0ef98>,\n",
       "  <__main__.LineItem at 0x2a717e0ee10>,\n",
       "  <__main__.LineItem at 0x2a717e0ee48>],\n",
       " '_i7': 'print(Order(joe, cart, FidelityPromotion()))\\nprint(Order(ann, cart, FidelityPromotion()))',\n",
       " '_i8': 'Order(joe, cart, fidelity_promo)',\n",
       " '_8': <Order total: 42.00 due: 42.00>,\n",
       " '_i9': 'promos = [fidelity_promo, bulk_order_promo, large_order_promo]\\ndef best_promo(order):\\n    return max(promo(order) for promo in promos)',\n",
       " 'promos': [<function __main__.fidelity_promo(order)>,\n",
       "  <function __main__.bulk_order_promo(order)>,\n",
       "  <function __main__.large_order_promo(order)>],\n",
       " 'best_promo': <function __main__.best_promo(order)>,\n",
       " '_i10': 'Order(ann, cart, best_promo)',\n",
       " '_10': <Order total: 42.00 due: 39.90>,\n",
       " '_i11': 'globals()'}"
      ]
     },
     "execution_count": 11,
     "metadata": {},
     "output_type": "execute_result"
    }
   ],
   "source": [
    "globals()"
   ]
  },
  {
   "cell_type": "code",
   "execution_count": 13,
   "metadata": {},
   "outputs": [
    {
     "name": "stdout",
     "output_type": "stream",
     "text": [
      "Help on built-in function globals in module builtins:\n",
      "\n",
      "globals()\n",
      "    Return the dictionary containing the current scope's global variables.\n",
      "    \n",
      "    NOTE: Updates to this dictionary *will* affect name lookups in the current\n",
      "    global scope and vice-versa.\n",
      "\n"
     ]
    }
   ],
   "source": [
    "help(globals)"
   ]
  },
  {
   "cell_type": "code",
   "execution_count": 15,
   "metadata": {},
   "outputs": [
    {
     "data": {
      "text/plain": [
       "[<function __main__.fidelity_promo(order)>,\n",
       " <function __main__.bulk_order_promo(order)>,\n",
       " <function __main__.large_order_promo(order)>]"
      ]
     },
     "execution_count": 15,
     "metadata": {},
     "output_type": "execute_result"
    }
   ],
   "source": [
    "promos = [globals()[name] for name in globals()\n",
    "         if name.endswith('_promo')\n",
    "         and name != 'best_promo']\n",
    "promos"
   ]
  },
  {
   "cell_type": "code",
   "execution_count": 22,
   "metadata": {},
   "outputs": [
    {
     "name": "stdout",
     "output_type": "stream",
     "text": [
      "Help on function getmembers in module inspect:\n",
      "\n",
      "getmembers(object, predicate=None)\n",
      "    Return all members of an object as (name, value) pairs sorted by name.\n",
      "    Optionally, only return members that satisfy a given predicate.\n",
      "\n"
     ]
    }
   ],
   "source": [
    "import inspect\n",
    "help(inspect.getmembers)"
   ]
  },
  {
   "cell_type": "code",
   "execution_count": 26,
   "metadata": {},
   "outputs": [
    {
     "data": {
      "text/plain": [
       "[('__getnewargs__',\n",
       "  <bound method Customer.__getnewargs__ of Customer(name='John Doe', fidelity=0)>),\n",
       " ('__repr__',\n",
       "  <bound method Customer.__repr__ of Customer(name='John Doe', fidelity=0)>),\n",
       " ('_asdict',\n",
       "  <bound method Customer._asdict of Customer(name='John Doe', fidelity=0)>),\n",
       " ('_make', <bound method Customer._make of <class '__main__.Customer'>>),\n",
       " ('_replace',\n",
       "  <bound method Customer._replace of Customer(name='John Doe', fidelity=0)>)]"
      ]
     },
     "execution_count": 26,
     "metadata": {},
     "output_type": "execute_result"
    }
   ],
   "source": [
    "inspect.getmembers(joe, predicate=inspect.ismethod)"
   ]
  }
 ],
 "metadata": {
  "kernelspec": {
   "display_name": "Python 3",
   "language": "python",
   "name": "python3"
  },
  "language_info": {
   "codemirror_mode": {
    "name": "ipython",
    "version": 3
   },
   "file_extension": ".py",
   "mimetype": "text/x-python",
   "name": "python",
   "nbconvert_exporter": "python",
   "pygments_lexer": "ipython3",
   "version": "3.6.5"
  }
 },
 "nbformat": 4,
 "nbformat_minor": 2
}
